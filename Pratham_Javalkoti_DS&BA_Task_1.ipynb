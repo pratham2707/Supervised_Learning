{
 "cells": [
  {
   "cell_type": "markdown",
   "id": "98171a71",
   "metadata": {},
   "source": [
    "# Prediction using Supervised Machine Learning."
   ]
  },
  {
   "cell_type": "markdown",
   "id": "29c145ba",
   "metadata": {},
   "source": [
    "Pratham Javalkoti\n",
    "\n",
    "Graduate Rotational Internship Program, The Sparks Foundation."
   ]
  },
  {
   "cell_type": "markdown",
   "id": "3823ad0b",
   "metadata": {},
   "source": [
    "Problem Statement:\n",
    "\n",
    "We need to predict the percentage of student depending upon his/her study hours."
   ]
  },
  {
   "cell_type": "markdown",
   "id": "05abcaa5",
   "metadata": {},
   "source": [
    "# Step 1: Laying The Foundations."
   ]
  },
  {
   "cell_type": "code",
   "execution_count": 17,
   "id": "93f3c7bb",
   "metadata": {},
   "outputs": [],
   "source": [
    "# Including necessary libraries.\n",
    "\n",
    "import pandas\n",
    "import numpy\n",
    "import matplotlib"
   ]
  },
  {
   "cell_type": "code",
   "execution_count": 18,
   "id": "8d442613",
   "metadata": {},
   "outputs": [
    {
     "name": "stdout",
     "output_type": "stream",
     "text": [
      "Dataframe Created.\n"
     ]
    },
    {
     "data": {
      "text/html": [
       "<div>\n",
       "<style scoped>\n",
       "    .dataframe tbody tr th:only-of-type {\n",
       "        vertical-align: middle;\n",
       "    }\n",
       "\n",
       "    .dataframe tbody tr th {\n",
       "        vertical-align: top;\n",
       "    }\n",
       "\n",
       "    .dataframe thead th {\n",
       "        text-align: right;\n",
       "    }\n",
       "</style>\n",
       "<table border=\"1\" class=\"dataframe\">\n",
       "  <thead>\n",
       "    <tr style=\"text-align: right;\">\n",
       "      <th></th>\n",
       "      <th>Hours</th>\n",
       "      <th>Scores</th>\n",
       "    </tr>\n",
       "  </thead>\n",
       "  <tbody>\n",
       "    <tr>\n",
       "      <th>0</th>\n",
       "      <td>2.5</td>\n",
       "      <td>21</td>\n",
       "    </tr>\n",
       "    <tr>\n",
       "      <th>1</th>\n",
       "      <td>5.1</td>\n",
       "      <td>47</td>\n",
       "    </tr>\n",
       "    <tr>\n",
       "      <th>2</th>\n",
       "      <td>3.2</td>\n",
       "      <td>27</td>\n",
       "    </tr>\n",
       "    <tr>\n",
       "      <th>3</th>\n",
       "      <td>8.5</td>\n",
       "      <td>75</td>\n",
       "    </tr>\n",
       "    <tr>\n",
       "      <th>4</th>\n",
       "      <td>3.5</td>\n",
       "      <td>30</td>\n",
       "    </tr>\n",
       "  </tbody>\n",
       "</table>\n",
       "</div>"
      ],
      "text/plain": [
       "   Hours  Scores\n",
       "0    2.5      21\n",
       "1    5.1      47\n",
       "2    3.2      27\n",
       "3    8.5      75\n",
       "4    3.5      30"
      ]
     },
     "execution_count": 18,
     "metadata": {},
     "output_type": "execute_result"
    }
   ],
   "source": [
    "# Importing the Dataset.\n",
    "\n",
    "link = \"student_scores.csv\"\n",
    "myData = pandas.read_csv(link)\n",
    "print(\"Dataframe Created.\")\n",
    "myData.head(5)"
   ]
  },
  {
   "cell_type": "code",
   "execution_count": 19,
   "id": "dd4cf9ae",
   "metadata": {},
   "outputs": [
    {
     "data": {
      "image/png": "[encoded data removed]",
      "text/plain": [
       "<Figure size 432x288 with 1 Axes>"
      ]
     },
     "metadata": {
      "needs_background": "light"
     },
     "output_type": "display_data"
    }
   ],
   "source": [
    "# Visualizing the DataFrame\n",
    "myData.plot(x = \"Hours\", y = \"Scores\", style = 'o')\n",
    "matplotlib.pyplot.title(\"Hours VS Scores\")\n",
    "matplotlib.pyplot.xlabel(\"Hours\")\n",
    "matplotlib.pyplot.ylabel(\"Scores\")\n",
    "matplotlib.pyplot.show()"
   ]
  },
  {
   "cell_type": "markdown",
   "id": "aaa2aca8",
   "metadata": {},
   "source": [
    "The above graph represents the correlation between Hours and Scores. In order to calculate the coefficient of correlation we can write a python script for it."
   ]
  },
  {
   "cell_type": "code",
   "execution_count": 20,
   "id": "1ebb25fc",
   "metadata": {},
   "outputs": [
    {
     "name": "stdout",
     "output_type": "stream",
     "text": [
      "[[1.         0.97619066]\n",
      " [0.97619066 1.        ]]\n"
     ]
    }
   ],
   "source": [
    "x = myData[\"Hours\"]\n",
    "y = myData[\"Scores\"]\n",
    "rho = numpy.corrcoef(x, y)\n",
    "print(rho)"
   ]
  },
  {
   "cell_type": "markdown",
   "id": "9f8d27a8",
   "metadata": {},
   "source": [
    "# Preparing The Data"
   ]
  },
  {
   "cell_type": "markdown",
   "id": "63077c55",
   "metadata": {},
   "source": [
    "Here we create the input and ouput. Input will be Hours Attribute and Output will be Scores Attribute as we are guessing the score on the basis of hour."
   ]
  },
  {
   "cell_type": "code",
   "execution_count": 21,
   "id": "84280cbd",
   "metadata": {},
   "outputs": [],
   "source": [
    "X = myData.iloc[:, :-1].values\n",
    "Y = myData.iloc[:, 1].values"
   ]
  },
  {
   "cell_type": "markdown",
   "id": "18d1ccdc",
   "metadata": {},
   "source": [
    "Now we have input as X which is our Hours Attribute and Y as our output which is Scores. We need to split the data in terms of training data and testing data by using in built method."
   ]
  },
  {
   "cell_type": "code",
   "execution_count": 22,
   "id": "30c24ee9",
   "metadata": {},
   "outputs": [],
   "source": [
    "from sklearn.model_selection import train_test_split\n",
    "X_Train, X_Test, Y_Train, Y_Test = train_test_split(X, Y, test_size = 0.2, random_state = 0)"
   ]
  },
  {
   "cell_type": "markdown",
   "id": "209814e2",
   "metadata": {},
   "source": [
    "# Training The Model"
   ]
  },
  {
   "cell_type": "markdown",
   "id": "545e147c",
   "metadata": {},
   "source": [
    "Here we train the machine learning model with the help of training data and algorithm."
   ]
  },
  {
   "cell_type": "code",
   "execution_count": 23,
   "id": "17dde858",
   "metadata": {},
   "outputs": [
    {
     "name": "stdout",
     "output_type": "stream",
     "text": [
      "Our model is ready!\n"
     ]
    }
   ],
   "source": [
    "from sklearn.linear_model import LinearRegression\n",
    "model = LinearRegression()\n",
    "model.fit(X_Train, Y_Train)\n",
    "\n",
    "print(\"Our model is ready!\")"
   ]
  },
  {
   "cell_type": "markdown",
   "id": "444ea006",
   "metadata": {},
   "source": [
    "Calculating the Slope and Intercept."
   ]
  },
  {
   "cell_type": "code",
   "execution_count": 24,
   "id": "da4b9371",
   "metadata": {},
   "outputs": [
    {
     "name": "stdout",
     "output_type": "stream",
     "text": [
      "[9.91065648]\n"
     ]
    }
   ],
   "source": [
    "print(model.coef_)"
   ]
  },
  {
   "cell_type": "code",
   "execution_count": 25,
   "id": "aa1f3071",
   "metadata": {},
   "outputs": [
    {
     "name": "stdout",
     "output_type": "stream",
     "text": [
      "2.018160041434683\n"
     ]
    }
   ],
   "source": [
    "print(model.intercept_)"
   ]
  },
  {
   "cell_type": "markdown",
   "id": "38f1c1c0",
   "metadata": {},
   "source": [
    "Representing the line of Y.\n",
    "Formula: y = mx + c,\n",
    "m = model.coef_,\n",
    "c = model.intercept_ ."
   ]
  },
  {
   "cell_type": "code",
   "execution_count": 26,
   "id": "64486f0b",
   "metadata": {},
   "outputs": [
    {
     "data": {
      "image/png": "[encoded data removed]",
      "text/plain": [
       "<Figure size 432x288 with 1 Axes>"
      ]
     },
     "metadata": {
      "needs_background": "light"
     },
     "output_type": "display_data"
    }
   ],
   "source": [
    "line = (model.coef_ * X) + model.intercept_\n",
    "\n",
    "matplotlib.pyplot.scatter(X, Y)\n",
    "matplotlib.pyplot.plot(X, line)\n",
    "matplotlib.pyplot.show()"
   ]
  },
  {
   "cell_type": "markdown",
   "id": "d5567de9",
   "metadata": {},
   "source": [
    "# Testing The Model"
   ]
  },
  {
   "cell_type": "markdown",
   "id": "10690100",
   "metadata": {},
   "source": [
    "Our model is ready. We need to test it now."
   ]
  },
  {
   "cell_type": "code",
   "execution_count": 27,
   "id": "b587b5ba",
   "metadata": {},
   "outputs": [
    {
     "name": "stdout",
     "output_type": "stream",
     "text": [
      "[[1.5]\n",
      " [3.2]\n",
      " [7.4]\n",
      " [2.5]\n",
      " [5.9]]\n"
     ]
    }
   ],
   "source": [
    "print(X_Test)"
   ]
  },
  {
   "cell_type": "code",
   "execution_count": 28,
   "id": "bfb49350",
   "metadata": {},
   "outputs": [
    {
     "name": "stdout",
     "output_type": "stream",
     "text": [
      "[16.88414476 33.73226078 75.357018   26.79480124 60.49103328]\n"
     ]
    }
   ],
   "source": [
    "Y_Predicted = model.predict(X_Test)\n",
    "print(Y_Predicted)"
   ]
  },
  {
   "cell_type": "code",
   "execution_count": 29,
   "id": "0805b42c",
   "metadata": {},
   "outputs": [
    {
     "name": "stdout",
     "output_type": "stream",
     "text": [
      "   Actual  Predicted\n",
      "0      20  16.884145\n",
      "1      27  33.732261\n",
      "2      69  75.357018\n",
      "3      30  26.794801\n",
      "4      62  60.491033\n"
     ]
    }
   ],
   "source": [
    "Comparision = pandas.DataFrame({'Actual' : Y_Test, 'Predicted' : Y_Predicted})\n",
    "print(Comparision)"
   ]
  },
  {
   "cell_type": "markdown",
   "id": "a97c6413",
   "metadata": {},
   "source": [
    "# Evaluating The Model"
   ]
  },
  {
   "cell_type": "markdown",
   "id": "cd5bb11e",
   "metadata": {},
   "source": [
    "Now we need to evaluate the model depending upon the accuracy and mean absolute error."
   ]
  },
  {
   "cell_type": "code",
   "execution_count": 31,
   "id": "6a2625ef",
   "metadata": {},
   "outputs": [
    {
     "name": "stdout",
     "output_type": "stream",
     "text": [
      "The Accuracy is  0.9454906892105356\n",
      "The Mean Absolute Error is  4.183859899002975\n"
     ]
    }
   ],
   "source": [
    "from sklearn import metrics\n",
    "from sklearn.metrics import r2_score\n",
    "\n",
    "Accuracy = r2_score(Y_Test, Y_Predicted)\n",
    "Error = metrics.mean_absolute_error(Y_Test, Y_Predicted)\n",
    "print(\"The Accuracy is \", Accuracy)\n",
    "print(\"The Mean Absolute Error is \", Error)"
   ]
  },
  {
   "cell_type": "markdown",
   "id": "faeea5f8",
   "metadata": {},
   "source": [
    "All Done!"
   ]
  }
 ],
 "metadata": {
  "kernelspec": {
   "display_name": "Python 3 (ipykernel)",
   "language": "python",
   "name": "python3"
  },
  "language_info": {
   "codemirror_mode": {
    "name": "ipython",
    "version": 3
   },
   "file_extension": ".py",
   "mimetype": "text/x-python",
   "name": "python",
   "nbconvert_exporter": "python",
   "pygments_lexer": "ipython3",
   "version": "3.9.12"
  }
 },
 "nbformat": 4,
 "nbformat_minor": 5
}
